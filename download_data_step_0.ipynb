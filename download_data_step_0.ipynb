{
 "cells": [
  {
   "cell_type": "code",
   "execution_count": 1,
   "id": "89e4771a-740e-4786-b742-92b274ee63c1",
   "metadata": {},
   "outputs": [
    {
     "name": "stdout",
     "output_type": "stream",
     "text": [
      "Available splits: ['train', 'test']\n",
      "\n",
      "Processing split: train\n",
      "Number of rows: 6851\n",
      "Columns: ['text', 'label', 'company', 'date', 'para_no']\n",
      "Data types:\n",
      "  text: object\n",
      "  label: object\n",
      "  company: object\n",
      "  date: object\n",
      "  para_no: int32\n",
      "Saved to: data/train.csv\n",
      "\n",
      "Processing split: test\n",
      "Number of rows: 1693\n",
      "Columns: ['text', 'label', 'company', 'date', 'para_no']\n",
      "Data types:\n",
      "  text: object\n",
      "  label: object\n",
      "  company: object\n",
      "  date: object\n",
      "  para_no: int32\n",
      "Saved to: data/test.csv\n"
     ]
    }
   ],
   "source": [
    "\n",
    "\n",
    "from datasets import load_dataset\n",
    "import pandas as pd\n",
    "import os\n",
    "\n",
    "dataset = load_dataset(\"jlh-ibm/earnings_call\")\n",
    "\n",
    "print(f\"Available splits: {list(dataset.keys())}\")\n",
    "\n",
    "# Create output directory\n",
    "output_dir = \"data\"\n",
    "os.makedirs(output_dir, exist_ok=True)\n",
    "\n",
    "# Save each split as a separate CSV file\n",
    "for split_name, split_data in dataset.items():\n",
    "    print(f\"\\nProcessing split: {split_name}\")\n",
    "    print(f\"Number of rows: {len(split_data)}\")\n",
    "    \n",
    "    # Convert to pandas DataFrame\n",
    "    df = split_data.to_pandas()\n",
    "    \n",
    "    # Print column information\n",
    "    print(f\"Columns: {list(df.columns)}\")\n",
    "    print(f\"Data types:\")\n",
    "    for col in df.columns:\n",
    "        print(f\"  {col}: {df[col].dtype}\")\n",
    "    \n",
    "    # Save as CSV\n",
    "    csv_filename = f\"{output_dir}/{split_name}.csv\"\n",
    "    df.to_csv(csv_filename, index=False)\n",
    "    print(f\"Saved to: {csv_filename}\")\n",
    "    "
   ]
  },
  {
   "cell_type": "code",
   "execution_count": null,
   "id": "8728b04d-c2eb-4126-9feb-407859d55401",
   "metadata": {},
   "outputs": [],
   "source": []
  }
 ],
 "metadata": {
  "kernelspec": {
   "display_name": "base",
   "language": "python",
   "name": "python3"
  },
  "language_info": {
   "codemirror_mode": {
    "name": "ipython",
    "version": 3
   },
   "file_extension": ".py",
   "mimetype": "text/x-python",
   "name": "python",
   "nbconvert_exporter": "python",
   "pygments_lexer": "ipython3",
   "version": "3.11.5"
  }
 },
 "nbformat": 4,
 "nbformat_minor": 5
}
