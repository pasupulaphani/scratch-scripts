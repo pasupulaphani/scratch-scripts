{
 "cells": [
  {
   "cell_type": "code",
   "execution_count": null,
   "id": "290f789d-dd19-47ee-a0c7-d0985ebdaf34",
   "metadata": {},
   "outputs": [
    {
     "name": "stdout",
     "output_type": "stream",
     "text": [
      "Combined Data (first 5 rows):\n",
      "  company       date                                         transcript  \\\n",
      "0     AMD 2016-07-21  \\n\\nThomson Reuters StreetEvents Event Transcr...   \n",
      "1     AMD 2019-10-29  \\n\\nThomson Reuters StreetEvents Event Transcr...   \n",
      "2    AAPL 2019-04-30  \\n\\nThomson Reuters StreetEvents Event Brief\\n...   \n",
      "3    AAPL 2016-10-25  \\n\\nThomson Reuters StreetEvents Event Brief\\n...   \n",
      "4    INTC 2016-10-18  \\n\\nThomson Reuters StreetEvents Event Transcr...   \n",
      "\n",
      "      open   high      low    close  adj_close     volume  avg_sentiment_neg  \\\n",
      "0   5.4300   5.45   5.1000   5.2200   5.220000   40242000              0.019   \n",
      "1  33.7300  33.90  32.7000  33.0300  33.030000   78700100              0.017   \n",
      "2  50.7650  50.85  49.7775  50.1675  49.296772  186139600              0.020   \n",
      "3  29.4875  29.59  29.3275  29.5625  27.903230  192516000              0.020   \n",
      "4  37.9700  38.05  37.5300  37.7500  34.080357   42907800              0.020   \n",
      "\n",
      "   ...  is_month_start  is_month_end   ffr      cpi  unemployment    vix  \\\n",
      "0  ...               0             0  0.39  240.101           4.8  12.74   \n",
      "1  ...               0             0  1.83  257.155           3.6  13.20   \n",
      "2  ...               0             1  2.42  255.233           3.7  13.12   \n",
      "3  ...               0             0  0.40  241.741           4.9  13.46   \n",
      "4  ...               0             0  0.40  241.741           4.9  15.28   \n",
      "\n",
      "   news_sentiment  social_sentiment  news_volume  social_volume  \n",
      "0             NaN               NaN          NaN            NaN  \n",
      "1             NaN               NaN          NaN            NaN  \n",
      "2             NaN               NaN          NaN            NaN  \n",
      "3             NaN               NaN          NaN            NaN  \n",
      "4             NaN               NaN          NaN            NaN  \n",
      "\n",
      "[5 rows x 159 columns]\n",
      "\n",
      "Combined Data Columns:\n",
      "Index(['company', 'date', 'transcript', 'open', 'high', 'low', 'close',\n",
      "       'adj_close', 'volume', 'avg_sentiment_neg',\n",
      "       ...\n",
      "       'is_month_start', 'is_month_end', 'ffr', 'cpi', 'unemployment', 'vix',\n",
      "       'news_sentiment', 'social_sentiment', 'news_volume', 'social_volume'],\n",
      "      dtype='object', length=159)\n",
      "\n",
      "Shape of combined data: (150, 159)\n"
     ]
    }
   ],
   "source": [
    "import pandas as pd\n",
    "\n",
    "sentiment_df = pd.read_csv(\"data/appended_with_sentiment_features.csv\")\n",
    "stock_df = pd.read_csv(\"data/full_stock_features.csv\")\n",
    "\n",
    "sentiment_df[\"date\"] = pd.to_datetime(sentiment_df[\"date\"])\n",
    "stock_df[\"date\"] = pd.to_datetime(stock_df[\"date\"])\n",
    "\n",
    "combined_df = pd.merge(sentiment_df, stock_df, left_on=[\"company\", \"date\"], right_on=[\"ticker\", \"date\"], how=\"inner\")\n",
    "\n",
    "combined_df.drop(columns=[\"ticker\"], inplace=True)\n",
    "\n",
    "print(\"Combined Data\")\n",
    "print(combined_df.head())\n",
    "print(\"\\nCombined Data Columns\")\n",
    "print(combined_df.columns)\n",
    "print(f\"\\nShape of combined data: {combined_df.shape}\")\n",
    "\n",
    "combined_df.to_csv(\"data/combined_data_and_features.csv\", index=False)\n",
    "\n",
    "\n"
   ]
  },
  {
   "cell_type": "code",
   "execution_count": null,
   "id": "345a640b-8ff6-4489-b250-55075917de71",
   "metadata": {},
   "outputs": [],
   "source": []
  }
 ],
 "metadata": {
  "kernelspec": {
   "display_name": "Python [conda env:anaconda3] *",
   "language": "python",
   "name": "conda-env-anaconda3-py"
  },
  "language_info": {
   "codemirror_mode": {
    "name": "ipython",
    "version": 3
   },
   "file_extension": ".py",
   "mimetype": "text/x-python",
   "name": "python",
   "nbconvert_exporter": "python",
   "pygments_lexer": "ipython3",
   "version": "3.11.5"
  }
 },
 "nbformat": 4,
 "nbformat_minor": 5
}
